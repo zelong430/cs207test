{
 "cells": [
  {
   "cell_type": "markdown",
   "metadata": {},
   "source": [
    "# Continuous Interation"
   ]
  },
  {
   "cell_type": "markdown",
   "metadata": {},
   "source": [
    "The idea behind continuous integration is to automate away the testing of your code.\n",
    "\n",
    "We will be using it for our projects.\n",
    "\n",
    "The basic workflow goes something like this:\n",
    "\n",
    "1. You work on your part of the code in your own branch or fork\n",
    "2. On every commit you make and push to github, your code is automatically tested on a fresh machine on Travis CI. This ensures that there are no specific dependencies on the structure of your machine that your code needs to run, and also ensures that your changes are sane\n",
    "3. Now you submit a pull request to `master` in the \"sacred\" repo. The repo manager creates a branch off `master`. \n",
    "4. This branch is also set to run tests on Travis. If all tests pass (remember other code may have been added to master in the time you were working on your own branch), then the pull request is accepted and your code becomes part of master.\n",
    "\n",
    "We use github to integrate our math library with Travis CI and Coveralls. Note that this is not the only workflow people use. Google git..github..workflow and feel free to choose another one for your group. Document your workflow on your project's README."
   ]
  },
  {
   "cell_type": "code",
   "execution_count": 1,
   "metadata": {
    "collapsed": false
   },
   "outputs": [
    {
     "name": "stdout",
     "output_type": "stream",
     "text": [
      "Overwriting amath.py\n"
     ]
    }
   ],
   "source": [
    "%%file amath.py\n",
    "\n",
    "def myaverage(l:list)->float:\n",
    "    \"\"\"\n",
    "    Calculate the average of list l\n",
    "    \n",
    "    Examples:\n",
    "    \n",
    "    >>> myaverage([1,2])\n",
    "    1.5\n",
    "    \n",
    "    \"\"\"\n",
    "    n = len(l)\n",
    "    if n==0:\n",
    "        raise ValueError(\"cant calculate mean of length 0 list\")\n",
    "    try:\n",
    "        thesum = sum(l)\n",
    "    except:\n",
    "        raise TypeError(\"Cannot sum things of different types\")\n",
    "    average = thesum/n\n",
    "    return average\n",
    "\n",
    "def mymedian(l:list)->float:\n",
    "    \"\"\"\n",
    "    Calculate the average of list l\n",
    "    \n",
    "    Examples:\n",
    "    \n",
    "    >>> mymedian([1,2,3])\n",
    "    2\n",
    "    \n",
    "    >>> mymedian([1,2,3,4])\n",
    "    2.5\n",
    "    \"\"\"\n",
    "    try:\n",
    "        lsorted = sorted(l)\n",
    "    except:\n",
    "        raise TypeError(\"Unable to sort array\")\n",
    "    n = len(lsorted)\n",
    "    if n==0:\n",
    "        raise ValueError(\"cant calculate median of length 0 list\")\n",
    "    mididx = len(lsorted)//2\n",
    "    if len(lsorted) % 2 == 0: #even\n",
    "        return (lsorted[mididx-1] + lsorted[mididx])/2\n",
    "    else:\n",
    "        return lsorted[mididx]"
   ]
  },
  {
   "cell_type": "code",
   "execution_count": 2,
   "metadata": {
    "collapsed": false
   },
   "outputs": [
    {
     "name": "stdout",
     "output_type": "stream",
     "text": [
      "Overwriting test_amath.py\n"
     ]
    }
   ],
   "source": [
    "%%file test_amath.py\n",
    "\n",
    "from pytest import raises\n",
    "from amath import myaverage, mymedian\n",
    "\n",
    "def test_mymath_mean():\n",
    "    assert myaverage([9,3]) == 6\n",
    "\n",
    "def test_char():\n",
    "    with raises(TypeError):\n",
    "        myaverage(['a',3])\n",
    "\n",
    "def test_mymath():\n",
    "    assert mymedian([9,3, 6]) == 6\n",
    "    \n",
    "def test_zero_median():\n",
    "    with raises(ValueError):\n",
    "        mymedian([])\n",
    "        \n",
    "def test_char_median():\n",
    "    with raises(TypeError):\n",
    "        mymedian(['a', 3])"
   ]
  },
  {
   "cell_type": "code",
   "execution_count": 3,
   "metadata": {
    "collapsed": false
   },
   "outputs": [
    {
     "name": "stdout",
     "output_type": "stream",
     "text": [
      "Traceback (most recent call last):\r\n",
      "  File \"//anaconda/envs/py35/bin/py.test\", line 6, in <module>\r\n",
      "    sys.exit(py.test.main())\r\n",
      "  File \"//anaconda/envs/py35/lib/python3.5/site-packages/_pytest/config.py\", line 39, in main\r\n",
      "    config = _prepareconfig(args, plugins)\r\n",
      "  File \"//anaconda/envs/py35/lib/python3.5/site-packages/_pytest/config.py\", line 118, in _prepareconfig\r\n",
      "    pluginmanager=pluginmanager, args=args)\r\n",
      "  File \"//anaconda/envs/py35/lib/python3.5/site-packages/_pytest/vendored_packages/pluggy.py\", line 724, in __call__\r\n",
      "    return self._hookexec(self, self._nonwrappers + self._wrappers, kwargs)\r\n",
      "  File \"//anaconda/envs/py35/lib/python3.5/site-packages/_pytest/vendored_packages/pluggy.py\", line 338, in _hookexec\r\n",
      "    return self._inner_hookexec(hook, methods, kwargs)\r\n",
      "  File \"//anaconda/envs/py35/lib/python3.5/site-packages/_pytest/vendored_packages/pluggy.py\", line 333, in <lambda>\r\n",
      "    _MultiCall(methods, kwargs, hook.spec_opts).execute()\r\n",
      "  File \"//anaconda/envs/py35/lib/python3.5/site-packages/_pytest/vendored_packages/pluggy.py\", line 595, in execute\r\n",
      "    return _wrapped_call(hook_impl.function(*args), self.execute)\r\n",
      "  File \"//anaconda/envs/py35/lib/python3.5/site-packages/_pytest/vendored_packages/pluggy.py\", line 249, in _wrapped_call\r\n",
      "    wrap_controller.send(call_outcome)\r\n",
      "  File \"//anaconda/envs/py35/lib/python3.5/site-packages/_pytest/helpconfig.py\", line 28, in pytest_cmdline_parse\r\n",
      "    config = outcome.get_result()\r\n",
      "  File \"//anaconda/envs/py35/lib/python3.5/site-packages/_pytest/vendored_packages/pluggy.py\", line 278, in get_result\r\n",
      "    raise ex[1].with_traceback(ex[2])\r\n",
      "  File \"//anaconda/envs/py35/lib/python3.5/site-packages/_pytest/vendored_packages/pluggy.py\", line 264, in __init__\r\n",
      "    self.result = func()\r\n",
      "  File \"//anaconda/envs/py35/lib/python3.5/site-packages/_pytest/vendored_packages/pluggy.py\", line 596, in execute\r\n",
      "    res = hook_impl.function(*args)\r\n",
      "  File \"//anaconda/envs/py35/lib/python3.5/site-packages/_pytest/config.py\", line 861, in pytest_cmdline_parse\r\n",
      "    self.parse(args)\r\n",
      "  File \"//anaconda/envs/py35/lib/python3.5/site-packages/_pytest/config.py\", line 966, in parse\r\n",
      "    self._preparse(args, addopts=addopts)\r\n",
      "  File \"//anaconda/envs/py35/lib/python3.5/site-packages/_pytest/config.py\", line 937, in _preparse\r\n",
      "    args=args, parser=self._parser)\r\n",
      "  File \"//anaconda/envs/py35/lib/python3.5/site-packages/_pytest/vendored_packages/pluggy.py\", line 724, in __call__\r\n",
      "    return self._hookexec(self, self._nonwrappers + self._wrappers, kwargs)\r\n",
      "  File \"//anaconda/envs/py35/lib/python3.5/site-packages/_pytest/vendored_packages/pluggy.py\", line 338, in _hookexec\r\n",
      "    return self._inner_hookexec(hook, methods, kwargs)\r\n",
      "  File \"//anaconda/envs/py35/lib/python3.5/site-packages/_pytest/vendored_packages/pluggy.py\", line 333, in <lambda>\r\n",
      "    _MultiCall(methods, kwargs, hook.spec_opts).execute()\r\n",
      "  File \"//anaconda/envs/py35/lib/python3.5/site-packages/_pytest/vendored_packages/pluggy.py\", line 595, in execute\r\n",
      "    return _wrapped_call(hook_impl.function(*args), self.execute)\r\n",
      "  File \"//anaconda/envs/py35/lib/python3.5/site-packages/_pytest/vendored_packages/pluggy.py\", line 253, in _wrapped_call\r\n",
      "    return call_outcome.get_result()\r\n",
      "  File \"//anaconda/envs/py35/lib/python3.5/site-packages/_pytest/vendored_packages/pluggy.py\", line 278, in get_result\r\n",
      "    raise ex[1].with_traceback(ex[2])\r\n",
      "  File \"//anaconda/envs/py35/lib/python3.5/site-packages/_pytest/vendored_packages/pluggy.py\", line 264, in __init__\r\n",
      "    self.result = func()\r\n",
      "  File \"//anaconda/envs/py35/lib/python3.5/site-packages/_pytest/vendored_packages/pluggy.py\", line 596, in execute\r\n",
      "    res = hook_impl.function(*args)\r\n",
      "  File \"//anaconda/envs/py35/lib/python3.5/site-packages/pytest_cov/plugin.py\", line 92, in pytest_load_initial_conftests\r\n",
      "    plugin = CovPlugin(ns, early_config.pluginmanager)\r\n",
      "  File \"//anaconda/envs/py35/lib/python3.5/site-packages/pytest_cov/plugin.py\", line 142, in __init__\r\n",
      "    self.start(engine.Central)\r\n",
      "  File \"//anaconda/envs/py35/lib/python3.5/site-packages/pytest_cov/plugin.py\", line 162, in start\r\n",
      "    self.cov_controller.start()\r\n",
      "  File \"//anaconda/envs/py35/lib/python3.5/site-packages/pytest_cov/engine.py\", line 141, in start\r\n",
      "    self.cov.erase()\r\n",
      "  File \"//anaconda/envs/py35/lib/python3.5/site-packages/coverage/control.py\", line 727, in erase\r\n",
      "    self._init()\r\n",
      "  File \"//anaconda/envs/py35/lib/python3.5/site-packages/coverage/control.py\", line 246, in _init\r\n",
      "    self.source.append(files.canonical_filename(src))\r\n",
      "  File \"//anaconda/envs/py35/lib/python3.5/site-packages/coverage/files.py\", line 61, in canonical_filename\r\n",
      "    if not os.path.isabs(filename):\r\n",
      "  File \"//anaconda/envs/py35/lib/python3.5/posixpath.py\", line 64, in isabs\r\n",
      "    return s.startswith(sep)\r\n",
      "AttributeError: 'bool' object has no attribute 'startswith'\r\n"
     ]
    }
   ],
   "source": [
    "!py.test --doctest-modules --cov --cov-report term-missing amath.py test_amath.py"
   ]
  },
  {
   "cell_type": "markdown",
   "metadata": {},
   "source": [
    "## Setup\n",
    "\n",
    "Create a repo for yourself called `cs207test`. Below, I've used my github id, replce with yours. Then clone it down to your machine"
   ]
  },
  {
   "cell_type": "code",
   "execution_count": 3,
   "metadata": {
    "collapsed": false
   },
   "outputs": [
    {
     "name": "stdout",
     "output_type": "stream",
     "text": [
      "Cloning into '/tmp/cs207test'...\n",
      "remote: Counting objects: 50, done.\u001b[K\n",
      "remote: Total 50 (delta 0), reused 0 (delta 0), pack-reused 50\u001b[K\n",
      "Receiving objects: 100% (50/50), 5.52 KiB | 0 bytes/s, done.\n",
      "Resolving deltas: 100% (19/19), done.\n",
      "Checking connectivity... done.\n"
     ]
    }
   ],
   "source": [
    "!rm -rf /tmp/cs207test\n",
    "!git clone git@github.com:rahuldave/cs207test.git /tmp/cs207test\n",
    "    "
   ]
  },
  {
   "cell_type": "markdown",
   "metadata": {},
   "source": [
    "Copy our library file and test file in there."
   ]
  },
  {
   "cell_type": "code",
   "execution_count": 6,
   "metadata": {
    "collapsed": false
   },
   "outputs": [],
   "source": [
    "!cp amath.py test_amath.py /tmp/cs207test/"
   ]
  },
  {
   "cell_type": "code",
   "execution_count": 4,
   "metadata": {
    "collapsed": false
   },
   "outputs": [
    {
     "name": "stdout",
     "output_type": "stream",
     "text": [
      "Writing setup.cfg\n"
     ]
    }
   ],
   "source": [
    "%%file setup.cfg\n",
    "[pytest]\n",
    "addopts = --doctest-modules --cov-report term-missing --cov amath"
   ]
  },
  {
   "cell_type": "markdown",
   "metadata": {},
   "source": [
    "### Travis CI"
   ]
  },
  {
   "cell_type": "markdown",
   "metadata": {},
   "source": [
    "![travis process](travis-process.png)"
   ]
  },
  {
   "cell_type": "markdown",
   "metadata": {},
   "source": [
    "Create an account on Travis CI and set this repo up for continuous integration once this repo can be seen on Travis.\n",
    "\n",
    "We then creare an instructio to Travis to make sure that\n",
    "\n",
    "1. python is installed\n",
    "2. its python 3.5\n",
    "3. pytest is installed"
   ]
  },
  {
   "cell_type": "code",
   "execution_count": 10,
   "metadata": {
    "collapsed": false
   },
   "outputs": [
    {
     "name": "stdout",
     "output_type": "stream",
     "text": [
      "Overwriting /tmp/cs207test/.travis.yml\n"
     ]
    }
   ],
   "source": [
    "%%file /tmp/cs207test/.travis.yml\n",
    "language: python\n",
    "python:\n",
    "    - \"3.5\"\n",
    "before_install:\n",
    "    - pip install pytest pytest-cov\n",
    "script:\n",
    "    - py.test"
   ]
  },
  {
   "cell_type": "code",
   "execution_count": 11,
   "metadata": {
    "collapsed": false
   },
   "outputs": [
    {
     "name": "stdout",
     "output_type": "stream",
     "text": [
      "/tmp/cs207test ~/Projects/private/cs207/FALL/labs\n",
      "On branch master\n",
      "Your branch is up-to-date with 'origin/master'.\n",
      "nothing to commit, working directory clean\n",
      "~/Projects/private/cs207/FALL/labs\n"
     ]
    },
    {
     "name": "stderr",
     "output_type": "stream",
     "text": [
      "Everything up-to-date\n"
     ]
    }
   ],
   "source": [
    "%%bash\n",
    "pushd /tmp/cs207test\n",
    "git add .\n",
    "git commit -m \"travis integration\" -a\n",
    "git push\n",
    "popd"
   ]
  },
  {
   "cell_type": "markdown",
   "metadata": {},
   "source": [
    "![build passing](travis-build-passing.png)"
   ]
  },
  {
   "cell_type": "markdown",
   "metadata": {},
   "source": [
    "At this point you be able to see your build on travis and if and how your tests pass."
   ]
  },
  {
   "cell_type": "markdown",
   "metadata": {},
   "source": [
    "### Coveralls Integration"
   ]
  },
  {
   "cell_type": "markdown",
   "metadata": {},
   "source": [
    "![coveralls on](coveralls-on.png)"
   ]
  },
  {
   "cell_type": "markdown",
   "metadata": {},
   "source": [
    "Next, create an account on \"coveralls\", connect your github, and turn coveralls integration on.\n",
    "\n",
    "Then we have to give Travis some new instructions:"
   ]
  },
  {
   "cell_type": "code",
   "execution_count": 12,
   "metadata": {
    "collapsed": false
   },
   "outputs": [
    {
     "name": "stdout",
     "output_type": "stream",
     "text": [
      "Overwriting /tmp/cs207test/.travis.yml\n"
     ]
    }
   ],
   "source": [
    "%%file /tmp/cs207test/.travis.yml\n",
    "language: python\n",
    "python:\n",
    "    - \"3.5\"\n",
    "before_install:\n",
    "    - pip install pytest pytest-cov\n",
    "    - pip install coveralls\n",
    "script:\n",
    "    - py.test\n",
    "after_success:\n",
    "    - coveralls"
   ]
  },
  {
   "cell_type": "code",
   "execution_count": 13,
   "metadata": {
    "collapsed": false
   },
   "outputs": [
    {
     "name": "stdout",
     "output_type": "stream",
     "text": [
      "/tmp/cs207test ~/Projects/private/cs207/FALL/labs\n",
      "[master 3dbeb2c] added coveralls\n",
      " 1 file changed, 4 insertions(+), 1 deletion(-)\n",
      "~/Projects/private/cs207/FALL/labs\n"
     ]
    },
    {
     "name": "stderr",
     "output_type": "stream",
     "text": [
      "To git@github.com:rahuldave/cs207test.git\n",
      "   a5f0d97..3dbeb2c  master -> master\n"
     ]
    }
   ],
   "source": [
    "%%bash\n",
    "pushd /tmp/cs207test\n",
    "git add .\n",
    "git commit -m \"added coveralls\" -a\n",
    "git push\n",
    "popd"
   ]
  },
  {
   "cell_type": "markdown",
   "metadata": {},
   "source": [
    "![coveralls on](coveralls-repo.png)\n",
    "\n",
    "![coveralls on](coveralls-lines.png)"
   ]
  },
  {
   "cell_type": "markdown",
   "metadata": {},
   "source": [
    "We want our github repo to reflect our build status on Travis CI and our coverage status. So we'll add this to our README as badges"
   ]
  },
  {
   "cell_type": "code",
   "execution_count": 14,
   "metadata": {
    "collapsed": false
   },
   "outputs": [
    {
     "name": "stdout",
     "output_type": "stream",
     "text": [
      "Overwriting /tmp/cs207test/README.md\n"
     ]
    }
   ],
   "source": [
    "%%file /tmp/cs207test/README.md\n",
    "\n",
    "# cs207test\n",
    "\n",
    "[![Build Status](https://travis-ci.org/rahuldave/cs207test.svg?branch=master)](https://travis-ci.org/rahuldave/cs207test)\n",
    "\n",
    "[![Coverage Status](https://coveralls.io/repos/github/rahuldave/cs207test/badge.svg?branch=master)](https://coveralls.io/github/rahuldave/cs207test?branch=master)"
   ]
  },
  {
   "cell_type": "code",
   "execution_count": 15,
   "metadata": {
    "collapsed": false
   },
   "outputs": [
    {
     "name": "stdout",
     "output_type": "stream",
     "text": [
      "/tmp/cs207test ~/Projects/private/cs207/FALL/labs\n",
      "On branch master\n",
      "Your branch is up-to-date with 'origin/master'.\n",
      "nothing to commit, working directory clean\n",
      "~/Projects/private/cs207/FALL/labs\n"
     ]
    },
    {
     "name": "stderr",
     "output_type": "stream",
     "text": [
      "Everything up-to-date\n"
     ]
    }
   ],
   "source": [
    "%%bash\n",
    "pushd /tmp/cs207test\n",
    "git add .\n",
    "git commit -m \"added badges\" -a\n",
    "git push\n",
    "popd"
   ]
  },
  {
   "cell_type": "markdown",
   "metadata": {},
   "source": [
    "![badges](github-badges.png)"
   ]
  }
 ],
 "metadata": {
  "anaconda-cloud": {},
  "kernelspec": {
   "display_name": "Python [py35]",
   "language": "python",
   "name": "Python [py35]"
  },
  "language_info": {
   "codemirror_mode": {
    "name": "ipython",
    "version": 3
   },
   "file_extension": ".py",
   "mimetype": "text/x-python",
   "name": "python",
   "nbconvert_exporter": "python",
   "pygments_lexer": "ipython3",
   "version": "3.5.2"
  }
 },
 "nbformat": 4,
 "nbformat_minor": 0
}
